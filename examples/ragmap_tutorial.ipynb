{
 "cells": [
  {
   "cell_type": "markdown",
   "id": "8fef0a68-143c-4ecb-9136-991d12d6be96",
   "metadata": {},
   "source": [
    "# RAGmap Tutorial"
   ]
  },
  {
   "cell_type": "markdown",
   "id": "607f563c-f194-4087-b6b7-afac3e6c6809",
   "metadata": {},
   "source": [
    "## Step 0: Setup"
   ]
  },
  {
   "cell_type": "markdown",
   "id": "6ac9c456-9266-4907-aa29-b326fc0dabf3",
   "metadata": {},
   "source": [
    "Install package"
   ]
  },
  {
   "cell_type": "code",
   "execution_count": null,
   "id": "6f4ac3d6-d41f-4204-b912-c8b2e83ed8bf",
   "metadata": {},
   "outputs": [],
   "source": [
    "#!pip install ragmap"
   ]
  },
  {
   "cell_type": "markdown",
   "id": "571566ca-7eb3-4e1d-ab82-342601773ce0",
   "metadata": {},
   "source": [
    "Set logging"
   ]
  },
  {
   "cell_type": "code",
   "execution_count": null,
   "id": "8b9bf4e7-e960-4434-ae05-3ee12202b8e1",
   "metadata": {},
   "outputs": [],
   "source": [
    "import sys\n",
    "import logging\n",
    "\n",
    "logging.basicConfig(stream=sys.stdout, level=logging.INFO)"
   ]
  },
  {
   "cell_type": "markdown",
   "id": "c7b1259c-0c56-4f6c-9e59-9387ebe5047c",
   "metadata": {},
   "source": [
    "Define text splitter"
   ]
  },
  {
   "cell_type": "code",
   "execution_count": null,
   "id": "4809edf0-3c35-458d-8bf3-17fede8a1947",
   "metadata": {},
   "outputs": [],
   "source": [
    "from langchain.text_splitter import RecursiveCharacterTextSplitter\n",
    "\n",
    "character_splitter = RecursiveCharacterTextSplitter(\n",
    "\tseparators=[\"\\n\\n\", \"\\n\", \". \", \" \", \"\"],\n",
    "\tchunk_size=256,\n",
    "\tchunk_overlap=0\n",
    ")"
   ]
  },
  {
   "cell_type": "markdown",
   "id": "0b3584e6-9115-46f6-8c72-21b6848f7917",
   "metadata": {},
   "source": [
    "## Step 1: Initialize"
   ]
  },
  {
   "cell_type": "code",
   "execution_count": null,
   "id": "1da47a41-8453-456e-87b1-bd09939149d6",
   "metadata": {},
   "outputs": [],
   "source": [
    "sys.path.insert(1, '..')"
   ]
  },
  {
   "cell_type": "code",
   "execution_count": null,
   "id": "3f0a7f5f-79c9-489d-9119-2c3b93e01102",
   "metadata": {},
   "outputs": [],
   "source": [
    "import ragmap\n",
    "\n",
    "rm = ragmap.RAGmap(\n",
    "\ttext_splitter=character_splitter,\n",
    "    embedding_model='all-MiniLM-L6-v2',\n",
    "    provider=ragmap.ModelProvider.HUGGING_FACE,\n",
    ")"
   ]
  },
  {
   "cell_type": "markdown",
   "id": "9bf97b90-c257-43d6-a823-ca123d49d4da",
   "metadata": {},
   "source": [
    "## Step 2: Load + Index"
   ]
  },
  {
   "cell_type": "code",
   "execution_count": null,
   "id": "2a5272f9-43a6-4c4f-a1be-941c15cfaa4a",
   "metadata": {},
   "outputs": [],
   "source": [
    "rm.load_file('all_amazon_shareholder_letters.pdf')"
   ]
  },
  {
   "cell_type": "markdown",
   "id": "f102f3d3-45b0-43f0-be96-603cb82e358c",
   "metadata": {},
   "source": [
    "## Step 3: Query"
   ]
  },
  {
   "cell_type": "code",
   "execution_count": null,
   "id": "fae979e1-0696-478d-90c1-a9972097b299",
   "metadata": {},
   "outputs": [],
   "source": [
    "rm.query(\n",
    "\tquery_texts=\"How many services and features were released by AWS in 2012?\",\n",
    "\tn_results=3\n",
    ")['documents'][0]"
   ]
  },
  {
   "cell_type": "markdown",
   "id": "b497519e-9d90-4205-abc9-b82370996dd1",
   "metadata": {},
   "source": [
    "## Step 4: Plot"
   ]
  },
  {
   "cell_type": "code",
   "execution_count": null,
   "id": "74205d61-6d1c-4662-a1a9-e03d1c1ae54c",
   "metadata": {},
   "outputs": [],
   "source": [
    "rm.plot()"
   ]
  },
  {
   "cell_type": "code",
   "execution_count": null,
   "id": "328ab270-b817-4bda-9b68-a2d42b1b3d63",
   "metadata": {},
   "outputs": [],
   "source": [
    "#rm.plot(ragmap.DimensionReduction.TSNE, n_components=3)"
   ]
  },
  {
   "cell_type": "code",
   "execution_count": null,
   "id": "3976573f-058a-44ff-b72f-fe5a4ca59794",
   "metadata": {},
   "outputs": [],
   "source": [
    "rm.plot(\n",
    "    query=dict(\n",
    "        query_texts=\"How many services and features were released by AWS in 2012?\",\n",
    "        n_results=3\n",
    "    )\n",
    ")"
   ]
  },
  {
   "cell_type": "code",
   "execution_count": null,
   "id": "3746ded6-64a2-47c5-803c-9d8cf0f0a0fa",
   "metadata": {},
   "outputs": [],
   "source": []
  }
 ],
 "metadata": {
  "kernelspec": {
   "display_name": "Python 3 (ipykernel)",
   "language": "python",
   "name": "python3"
  },
  "language_info": {
   "codemirror_mode": {
    "name": "ipython",
    "version": 3
   },
   "file_extension": ".py",
   "mimetype": "text/x-python",
   "name": "python",
   "nbconvert_exporter": "python",
   "pygments_lexer": "ipython3",
   "version": "3.11.7"
  }
 },
 "nbformat": 4,
 "nbformat_minor": 5
}
